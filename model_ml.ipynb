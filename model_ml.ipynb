{
 "cells": [
  {
   "cell_type": "code",
   "execution_count": 3,
   "metadata": {},
   "outputs": [],
   "source": [
    "import pandas as pd\n",
    "import numpy as np\n",
    "import matplotlib.pyplot as plt\n",
    "import seaborn as sns\n",
    "from sklearn.model_selection import *\n",
    "from datetime import datetime\n",
    "from sklearn.metrics import *\n",
    "import xgboost as xgb\n",
    "import joblib\n",
    "import warnings\n",
    "warnings.filterwarnings('ignore')"
   ]
  },
  {
   "cell_type": "code",
   "execution_count": 4,
   "metadata": {
    "jupyter": {
     "source_hidden": true
    }
   },
   "outputs": [],
   "source": [
    "# !pip install xgboost\n",
    "# !pip install imblearn"
   ]
  },
  {
   "cell_type": "code",
   "execution_count": 5,
   "metadata": {},
   "outputs": [],
   "source": [
    "df = pd.read_csv(\"Pendapatan.csv\",index_col=0)\n",
    "df.head(2)\n",
    "df = df.sort_index()\n",
    "\n",
    "df.columns\n",
    "df.columns = [\"umur\",\"kelas pekerja\",\"berat akhir\",\"pendidikan\",\"tahun pendidikan\",\"status kawin\",\"pekerjaan\",\"sex\",\"keuntungan\",\"kerugian\",\"JPM\",\"gaji\"]"
   ]
  },
  {
   "cell_type": "markdown",
   "metadata": {},
   "source": [
    "### Handling Categorical data"
   ]
  },
  {
   "cell_type": "code",
   "execution_count": 6,
   "metadata": {},
   "outputs": [],
   "source": [
    "df[\"kelas pekerja\"] = df[\"kelas pekerja\"].replace(\"?\",\"jc_unknown\")\n",
    "df[\"pekerjaan\"] = df[\"pekerjaan\"].replace(\"?\",\"job_unknown\")"
   ]
  },
  {
   "cell_type": "code",
   "execution_count": 7,
   "metadata": {},
   "outputs": [
    {
     "data": {
      "text/plain": [
       "umur                0\n",
       "kelas pekerja       0\n",
       "berat akhir         0\n",
       "pendidikan          0\n",
       "tahun pendidikan    0\n",
       "status kawin        0\n",
       "pekerjaan           0\n",
       "sex                 0\n",
       "keuntungan          0\n",
       "kerugian            0\n",
       "JPM                 0\n",
       "gaji                0\n",
       "dtype: int64"
      ]
     },
     "execution_count": 7,
     "metadata": {},
     "output_type": "execute_result"
    }
   ],
   "source": [
    "df.isna().sum()"
   ]
  },
  {
   "cell_type": "markdown",
   "metadata": {},
   "source": [
    "#### Education"
   ]
  },
  {
   "cell_type": "code",
   "execution_count": 8,
   "metadata": {},
   "outputs": [],
   "source": [
    "edu_map = {\n",
    "    \"SD\":1, \"1st-4th\":1, \"5th-6th\":2, \"7th-8th\":3, \"9th\":4,\n",
    "    \"SMA\":5, \"10th\":5, \"11th\":6, \"12th\":7,\n",
    "    \"Pendidikan Tinggi\":8, \"D3\":8, \"D4\":9,\"Sarjana\":9,\n",
    "    \"Master\":10, \"Doktor\":11, \"Sekolah Professional\":12 \n",
    "}\n",
    "df[\"pendidikan\"] = df[\"pendidikan\"].map(edu_map)"
   ]
  },
  {
   "cell_type": "markdown",
   "metadata": {},
   "source": [
    "#### Marriage"
   ]
  },
  {
   "cell_type": "code",
   "execution_count": 9,
   "metadata": {},
   "outputs": [],
   "source": [
    "mar_map = {\n",
    "    \"Belum Pernah Menikah\":0,\n",
    "    \"Menikah\":1, \"Menikah LDR\":1,\n",
    "    \"Cerai\":2, \"Berpisah\":2, \"Janda\":2\n",
    "}\n",
    "df[\"status kawin\"] = df[\"status kawin\"].map(mar_map)"
   ]
  },
  {
   "cell_type": "markdown",
   "metadata": {},
   "source": [
    "#### Sex"
   ]
  },
  {
   "cell_type": "code",
   "execution_count": 10,
   "metadata": {},
   "outputs": [],
   "source": [
    "sex_map = {\n",
    "    \"Perempuan\":0,\n",
    "    \"Laki2\":1\n",
    "}\n",
    "df[\"sex\"] = df[\"sex\"].map(sex_map)"
   ]
  },
  {
   "cell_type": "markdown",
   "metadata": {},
   "source": [
    "### Ordinal Data"
   ]
  },
  {
   "cell_type": "markdown",
   "metadata": {},
   "source": [
    "#### Occupation"
   ]
  },
  {
   "cell_type": "code",
   "execution_count": 11,
   "metadata": {},
   "outputs": [
    {
     "data": {
      "text/html": [
       "<div>\n",
       "<style scoped>\n",
       "    .dataframe tbody tr th:only-of-type {\n",
       "        vertical-align: middle;\n",
       "    }\n",
       "\n",
       "    .dataframe tbody tr th {\n",
       "        vertical-align: top;\n",
       "    }\n",
       "\n",
       "    .dataframe thead th {\n",
       "        text-align: right;\n",
       "    }\n",
       "</style>\n",
       "<table border=\"1\" class=\"dataframe\">\n",
       "  <thead>\n",
       "    <tr style=\"text-align: right;\">\n",
       "      <th></th>\n",
       "      <th>umur</th>\n",
       "      <th>berat akhir</th>\n",
       "      <th>pendidikan</th>\n",
       "      <th>tahun pendidikan</th>\n",
       "      <th>status kawin</th>\n",
       "      <th>sex</th>\n",
       "      <th>keuntungan</th>\n",
       "      <th>kerugian</th>\n",
       "      <th>JPM</th>\n",
       "      <th>gaji</th>\n",
       "      <th>...</th>\n",
       "      <th>pekerjaan_Penjaga</th>\n",
       "      <th>pekerjaan_Perbaikan Kerajinan</th>\n",
       "      <th>pekerjaan_Petani</th>\n",
       "      <th>pekerjaan_Sales</th>\n",
       "      <th>pekerjaan_Servis Lainnya</th>\n",
       "      <th>pekerjaan_Spesialis</th>\n",
       "      <th>pekerjaan_Supir</th>\n",
       "      <th>pekerjaan_Tech-support</th>\n",
       "      <th>pekerjaan_Tentara</th>\n",
       "      <th>pekerjaan_job_unknown</th>\n",
       "    </tr>\n",
       "    <tr>\n",
       "      <th>id</th>\n",
       "      <th></th>\n",
       "      <th></th>\n",
       "      <th></th>\n",
       "      <th></th>\n",
       "      <th></th>\n",
       "      <th></th>\n",
       "      <th></th>\n",
       "      <th></th>\n",
       "      <th></th>\n",
       "      <th></th>\n",
       "      <th></th>\n",
       "      <th></th>\n",
       "      <th></th>\n",
       "      <th></th>\n",
       "      <th></th>\n",
       "      <th></th>\n",
       "      <th></th>\n",
       "      <th></th>\n",
       "      <th></th>\n",
       "      <th></th>\n",
       "      <th></th>\n",
       "    </tr>\n",
       "  </thead>\n",
       "  <tbody>\n",
       "    <tr>\n",
       "      <th>0</th>\n",
       "      <td>39</td>\n",
       "      <td>77516</td>\n",
       "      <td>9</td>\n",
       "      <td>13</td>\n",
       "      <td>0</td>\n",
       "      <td>1</td>\n",
       "      <td>30436000.0</td>\n",
       "      <td>0.0</td>\n",
       "      <td>40.0</td>\n",
       "      <td>0</td>\n",
       "      <td>...</td>\n",
       "      <td>0</td>\n",
       "      <td>0</td>\n",
       "      <td>0</td>\n",
       "      <td>0</td>\n",
       "      <td>0</td>\n",
       "      <td>0</td>\n",
       "      <td>0</td>\n",
       "      <td>0</td>\n",
       "      <td>0</td>\n",
       "      <td>0</td>\n",
       "    </tr>\n",
       "  </tbody>\n",
       "</table>\n",
       "<p>1 rows × 34 columns</p>\n",
       "</div>"
      ],
      "text/plain": [
       "    umur  berat akhir  pendidikan  tahun pendidikan  status kawin  sex  \\\n",
       "id                                                                       \n",
       "0     39        77516           9                13             0    1   \n",
       "\n",
       "    keuntungan  kerugian   JPM  gaji  ...  pekerjaan_Penjaga  \\\n",
       "id                                    ...                      \n",
       "0   30436000.0       0.0  40.0     0  ...                  0   \n",
       "\n",
       "    pekerjaan_Perbaikan Kerajinan  pekerjaan_Petani  pekerjaan_Sales  \\\n",
       "id                                                                     \n",
       "0                               0                 0                0   \n",
       "\n",
       "    pekerjaan_Servis Lainnya  pekerjaan_Spesialis  pekerjaan_Supir  \\\n",
       "id                                                                   \n",
       "0                          0                    0                0   \n",
       "\n",
       "    pekerjaan_Tech-support  pekerjaan_Tentara  pekerjaan_job_unknown  \n",
       "id                                                                    \n",
       "0                        0                  0                      0  \n",
       "\n",
       "[1 rows x 34 columns]"
      ]
     },
     "execution_count": 11,
     "metadata": {},
     "output_type": "execute_result"
    }
   ],
   "source": [
    "job = pd.get_dummies(df[[\"kelas pekerja\",\"pekerjaan\"]])\n",
    "df.drop([\"pekerjaan\",\"kelas pekerja\"], axis=1, inplace=True)\n",
    "df= pd.concat([df,job],axis=1)\n",
    "df.head(1)"
   ]
  },
  {
   "cell_type": "code",
   "execution_count": 12,
   "metadata": {},
   "outputs": [],
   "source": [
    "x = df.drop([\"gaji\",\"keuntungan\",\"kerugian\",\"berat akhir\",\"tahun pendidikan\"],axis=1)\n",
    "y = df[\"gaji\"]"
   ]
  },
  {
   "cell_type": "code",
   "execution_count": 13,
   "metadata": {},
   "outputs": [
    {
     "name": "stdout",
     "output_type": "stream",
     "text": [
      "<class 'pandas.core.frame.DataFrame'>\n",
      "Int64Index: 38393 entries, 0 to 47991\n",
      "Data columns (total 29 columns):\n",
      " #   Column                                       Non-Null Count  Dtype  \n",
      "---  ------                                       --------------  -----  \n",
      " 0   umur                                         38393 non-null  int64  \n",
      " 1   pendidikan                                   38393 non-null  int64  \n",
      " 2   status kawin                                 38393 non-null  int64  \n",
      " 3   sex                                          38393 non-null  int64  \n",
      " 4   JPM                                          38393 non-null  float64\n",
      " 5   kelas pekerja_Pekerja Bebas Bukan Perusahan  38393 non-null  uint8  \n",
      " 6   kelas pekerja_Pekerja Bebas Perusahaan       38393 non-null  uint8  \n",
      " 7   kelas pekerja_Pemerintah Lokal               38393 non-null  uint8  \n",
      " 8   kelas pekerja_Pemerintah Negara              38393 non-null  uint8  \n",
      " 9   kelas pekerja_Pemerintah Provinsi            38393 non-null  uint8  \n",
      " 10  kelas pekerja_Tanpa di Bayar                 38393 non-null  uint8  \n",
      " 11  kelas pekerja_Tidak Pernah Bekerja           38393 non-null  uint8  \n",
      " 12  kelas pekerja_Wiraswasta                     38393 non-null  uint8  \n",
      " 13  kelas pekerja_jc_unknown                     38393 non-null  uint8  \n",
      " 14  pekerjaan_Asisten Rumah Tangga               38393 non-null  uint8  \n",
      " 15  pekerjaan_Ekesekutif Managerial              38393 non-null  uint8  \n",
      " 16  pekerjaan_Mesin Inspeksi                     38393 non-null  uint8  \n",
      " 17  pekerjaan_Pembersih                          38393 non-null  uint8  \n",
      " 18  pekerjaan_Pemuka Agama                       38393 non-null  uint8  \n",
      " 19  pekerjaan_Penjaga                            38393 non-null  uint8  \n",
      " 20  pekerjaan_Perbaikan Kerajinan                38393 non-null  uint8  \n",
      " 21  pekerjaan_Petani                             38393 non-null  uint8  \n",
      " 22  pekerjaan_Sales                              38393 non-null  uint8  \n",
      " 23  pekerjaan_Servis Lainnya                     38393 non-null  uint8  \n",
      " 24  pekerjaan_Spesialis                          38393 non-null  uint8  \n",
      " 25  pekerjaan_Supir                              38393 non-null  uint8  \n",
      " 26  pekerjaan_Tech-support                       38393 non-null  uint8  \n",
      " 27  pekerjaan_Tentara                            38393 non-null  uint8  \n",
      " 28  pekerjaan_job_unknown                        38393 non-null  uint8  \n",
      "dtypes: float64(1), int64(4), uint8(24)\n",
      "memory usage: 2.6 MB\n",
      "None\n",
      "(38393,)\n"
     ]
    }
   ],
   "source": [
    "print(x.info())\n",
    "print(y.shape)"
   ]
  },
  {
   "cell_type": "code",
   "execution_count": 14,
   "metadata": {},
   "outputs": [],
   "source": [
    "from sklearn.preprocessing import StandardScaler\n",
    "scaler = StandardScaler()\n",
    "x_std = scaler.fit_transform(x)"
   ]
  },
  {
   "cell_type": "markdown",
   "metadata": {},
   "source": [
    "### Build ML"
   ]
  },
  {
   "cell_type": "code",
   "execution_count": 15,
   "metadata": {},
   "outputs": [],
   "source": [
    "from sklearn.linear_model import LogisticRegression\n",
    "from sklearn.tree import DecisionTreeClassifier\n",
    "from sklearn.svm import SVC \n",
    "from sklearn.ensemble import RandomForestClassifier,GradientBoostingClassifier\n",
    "from sklearn.neighbors import KNeighborsClassifier\n",
    "from sklearn.naive_bayes import GaussianNB\n",
    "from imblearn.over_sampling import RandomOverSampler\n",
    "lr = LogisticRegression()\n",
    "dt = DecisionTreeClassifier()\n",
    "sv = SVC()\n",
    "rf = RandomForestClassifier()\n",
    "gb = GradientBoostingClassifier()\n",
    "kn = KNeighborsClassifier()\n",
    "nb = GaussianNB()\n",
    "sm = RandomOverSampler()\n",
    "\n",
    "model = [lr,dt,sv,rf,kn,gb,nb]\n",
    "model_name = {lr:\"Logistic Regression\", rf:\"Random Forest\", kn:\"KNN\",sv:\"SVC\",dt:\"Decision Tree\",gb:\"Gradient Boosting\",nb:\"Naive Bayes\"}\n",
    "\n",
    "x_train, x_test, y_train, y_test = train_test_split(x_std, y, stratify=y, random_state=101)\n",
    "x_sm,y_sm = sm.fit_resample(x_train, y_train)\n",
    "x_train_sm, x_test_sm, y_train_sm, y_test_sm = train_test_split(x_sm, y_sm, stratify=y_sm, random_state=101)"
   ]
  },
  {
   "cell_type": "code",
   "execution_count": 16,
   "metadata": {},
   "outputs": [],
   "source": [
    "from sklearn.metrics import accuracy_score"
   ]
  },
  {
   "cell_type": "code",
   "execution_count": 17,
   "metadata": {},
   "outputs": [],
   "source": [
    "from sklearn.metrics import auc"
   ]
  },
  {
   "cell_type": "code",
   "execution_count": 18,
   "metadata": {},
   "outputs": [],
   "source": [
    "def evaluasi(model):\n",
    "    y_pred = model.predict(x_test)\n",
    "    print(classification_report(y_test, y_pred))\n",
    "    print(\"AUC SCORE:\",roc_auc_score(y_test,y_pred))"
   ]
  },
  {
   "cell_type": "markdown",
   "metadata": {},
   "source": [
    "### Logistic Regression"
   ]
  },
  {
   "cell_type": "code",
   "execution_count": 21,
   "metadata": {},
   "outputs": [
    {
     "name": "stdout",
     "output_type": "stream",
     "text": [
      "Fitting 5 folds for each of 20 candidates, totalling 100 fits\n"
     ]
    },
    {
     "name": "stderr",
     "output_type": "stream",
     "text": [
      "[Parallel(n_jobs=1)]: Using backend SequentialBackend with 1 concurrent workers.\n",
      "[Parallel(n_jobs=1)]: Done 100 out of 100 | elapsed:  1.6min finished\n"
     ]
    },
    {
     "name": "stdout",
     "output_type": "stream",
     "text": [
      "{'tol': 0.0001, 'solver': 'newton-cg', 'penalty': 'none', 'multi_class': 'auto', 'max_iter': 1000, 'intercept_scaling': 1, 'fit_intercept': True, 'dual': False, 'C': 0.0001}\n"
     ]
    }
   ],
   "source": [
    "param = {\n",
    "    \"penalty\": [\"l1\", \"l2\", \"elasticnet\", \"none\"],\n",
    "    \"solver\": [\"newton-cg\", \"lbfgs\", \"liblinear\", \"sag\", \"saga\"],\n",
    "    \"max_iter\" : [1, 10, 100, 1000, 10000],\n",
    "    \"C\": np.logspace(-4,4,20),\n",
    "    \"dual\" : [False], \"fit_intercept\" : [True],\n",
    "    \"intercept_scaling\" : [1],\n",
    "    \"multi_class\": ['auto'], \"tol\": [0.0001],\n",
    "}\n",
    "\n",
    "lr = LogisticRegression()\n",
    "lr_best = RandomizedSearchCV(estimator= lr, param_distributions= param, cv= 5, verbose=1, random_state=101, n_iter=20)\n",
    "lr_best.fit(x_train_sm, y_train_sm)\n",
    "print(lr_best.best_params_)"
   ]
  },
  {
   "cell_type": "code",
   "execution_count": 23,
   "metadata": {},
   "outputs": [
    {
     "name": "stdout",
     "output_type": "stream",
     "text": [
      "              precision    recall  f1-score   support\n",
      "\n",
      "           0       0.91      0.73      0.81      7300\n",
      "           1       0.47      0.76      0.58      2299\n",
      "\n",
      "    accuracy                           0.74      9599\n",
      "   macro avg       0.69      0.75      0.70      9599\n",
      "weighted avg       0.80      0.74      0.76      9599\n",
      "\n",
      "AUC SCORE: 0.7471876098601536\n"
     ]
    }
   ],
   "source": [
    "lr.fit(x_train_sm, y_train_sm)\n",
    "evaluasi(lr)"
   ]
  },
  {
   "cell_type": "code",
   "execution_count": 24,
   "metadata": {},
   "outputs": [
    {
     "name": "stdout",
     "output_type": "stream",
     "text": [
      "              precision    recall  f1-score   support\n",
      "\n",
      "           0       0.91      0.73      0.81      7300\n",
      "           1       0.47      0.76      0.58      2299\n",
      "\n",
      "    accuracy                           0.74      9599\n",
      "   macro avg       0.69      0.75      0.70      9599\n",
      "weighted avg       0.80      0.74      0.76      9599\n",
      "\n",
      "AUC SCORE: 0.7472561030108386\n"
     ]
    }
   ],
   "source": [
    "evaluasi(lr_best.best_estimator_)"
   ]
  },
  {
   "cell_type": "markdown",
   "metadata": {},
   "source": [
    "### KNN"
   ]
  },
  {
   "cell_type": "code",
   "execution_count": 25,
   "metadata": {},
   "outputs": [
    {
     "name": "stdout",
     "output_type": "stream",
     "text": [
      "Fitting 5 folds for each of 20 candidates, totalling 100 fits\n"
     ]
    },
    {
     "name": "stderr",
     "output_type": "stream",
     "text": [
      "[Parallel(n_jobs=1)]: Using backend SequentialBackend with 1 concurrent workers.\n",
      "[Parallel(n_jobs=1)]: Done 100 out of 100 | elapsed: 14.9min finished\n"
     ]
    },
    {
     "name": "stdout",
     "output_type": "stream",
     "text": [
      "{'weights': 'distance', 'n_neighbors': 11, 'leaf_size': 27, 'algorithm': 'auto'}\n"
     ]
    }
   ],
   "source": [
    "param = {\n",
    "    \"n_neighbors\": np.arange(1,31),\n",
    "    \"algorithm\": [\"auto\"],\n",
    "    \"leaf_size\" : np.arange(1,51),\n",
    "    \"weights\" : [\"uniform\",\"distance\"]\n",
    "}\n",
    "\n",
    "kn = KNeighborsClassifier()\n",
    "kn_best = RandomizedSearchCV(estimator= kn, param_distributions= param, cv= 5, n_iter=20, verbose=1)\n",
    "kn_best.fit(x_train_sm, y_train_sm)\n",
    "print(kn_best.best_params_)"
   ]
  },
  {
   "cell_type": "code",
   "execution_count": 26,
   "metadata": {},
   "outputs": [
    {
     "name": "stdout",
     "output_type": "stream",
     "text": [
      "              precision    recall  f1-score   support\n",
      "\n",
      "           0       0.92      0.75      0.83      7300\n",
      "           1       0.50      0.79      0.61      2299\n",
      "\n",
      "    accuracy                           0.76      9599\n",
      "   macro avg       0.71      0.77      0.72      9599\n",
      "weighted avg       0.82      0.76      0.77      9599\n",
      "\n",
      "AUC SCORE: 0.768375440185429\n"
     ]
    }
   ],
   "source": [
    "kn.fit(x_train_sm, y_train_sm)\n",
    "evaluasi(kn)"
   ]
  },
  {
   "cell_type": "code",
   "execution_count": 27,
   "metadata": {},
   "outputs": [
    {
     "name": "stdout",
     "output_type": "stream",
     "text": [
      "              precision    recall  f1-score   support\n",
      "\n",
      "           0       0.91      0.77      0.83      7300\n",
      "           1       0.51      0.76      0.61      2299\n",
      "\n",
      "    accuracy                           0.77      9599\n",
      "   macro avg       0.71      0.77      0.72      9599\n",
      "weighted avg       0.81      0.77      0.78      9599\n",
      "\n",
      "AUC SCORE: 0.7651893020789267\n"
     ]
    }
   ],
   "source": [
    "evaluasi(kn_best.best_estimator_)"
   ]
  },
  {
   "cell_type": "markdown",
   "metadata": {},
   "source": [
    "### Random Forest"
   ]
  },
  {
   "cell_type": "code",
   "execution_count": 29,
   "metadata": {},
   "outputs": [
    {
     "name": "stdout",
     "output_type": "stream",
     "text": [
      "Fitting 5 folds for each of 10 candidates, totalling 50 fits\n"
     ]
    },
    {
     "name": "stderr",
     "output_type": "stream",
     "text": [
      "[Parallel(n_jobs=1)]: Using backend SequentialBackend with 1 concurrent workers.\n",
      "[Parallel(n_jobs=1)]: Done  50 out of  50 | elapsed: 18.3min finished\n"
     ]
    },
    {
     "name": "stdout",
     "output_type": "stream",
     "text": [
      "{'n_estimators': 200, 'min_samples_split': 2, 'min_samples_leaf': 1, 'max_features': 'auto', 'max_depth': 40, 'class_weight': 'balanced', 'bootstrap': 'True'}\n"
     ]
    }
   ],
   "source": [
    "param = {'n_estimators':np.arange(200,2000,200), \n",
    "             \"max_depth\":np.arange(10,110,10), 'max_features':['auto','sqrt'],\n",
    "         'class_weight':['balanced','balanced_subsample'],\n",
    "             \"min_samples_split\":[2, 5, 10],\"min_samples_leaf\":[1, 2, 4]}\n",
    "rf = RandomForestClassifier()\n",
    "rf_best = RandomizedSearchCV(rf, param,cv=5 , n_iter=10, random_state=20,verbose=1)\n",
    "rf_best.fit(x_train_sm, y_train_sm)\n",
    "print(rf_best.best_params_)"
   ]
  },
  {
   "cell_type": "code",
   "execution_count": 30,
   "metadata": {},
   "outputs": [
    {
     "name": "stdout",
     "output_type": "stream",
     "text": [
      "              precision    recall  f1-score   support\n",
      "\n",
      "           0       0.89      0.83      0.86      7300\n",
      "           1       0.55      0.68      0.61      2299\n",
      "\n",
      "    accuracy                           0.79      9599\n",
      "   macro avg       0.72      0.75      0.73      9599\n",
      "weighted avg       0.81      0.79      0.80      9599\n",
      "\n",
      "AUC SCORE: 0.7510552235337581\n"
     ]
    }
   ],
   "source": [
    "rf.fit(x_train_sm, y_train_sm)\n",
    "evaluasi(rf)"
   ]
  },
  {
   "cell_type": "code",
   "execution_count": 31,
   "metadata": {},
   "outputs": [
    {
     "name": "stdout",
     "output_type": "stream",
     "text": [
      "              precision    recall  f1-score   support\n",
      "\n",
      "           0       0.89      0.83      0.86      7300\n",
      "           1       0.55      0.68      0.61      2299\n",
      "\n",
      "    accuracy                           0.79      9599\n",
      "   macro avg       0.72      0.75      0.73      9599\n",
      "weighted avg       0.81      0.79      0.80      9599\n",
      "\n",
      "AUC SCORE: 0.7539510329088883\n"
     ]
    }
   ],
   "source": [
    "evaluasi(rf_best.best_estimator_)"
   ]
  },
  {
   "cell_type": "markdown",
   "metadata": {},
   "source": [
    "### XGBOOST"
   ]
  },
  {
   "cell_type": "code",
   "execution_count": 32,
   "metadata": {},
   "outputs": [
    {
     "name": "stdout",
     "output_type": "stream",
     "text": [
      "Fitting 5 folds for each of 10 candidates, totalling 50 fits\n"
     ]
    },
    {
     "name": "stderr",
     "output_type": "stream",
     "text": [
      "[Parallel(n_jobs=1)]: Using backend SequentialBackend with 1 concurrent workers.\n",
      "[Parallel(n_jobs=1)]: Done  50 out of  50 | elapsed:  2.1min finished\n"
     ]
    },
    {
     "name": "stdout",
     "output_type": "stream",
     "text": [
      "{'min_child_weight': 1, 'max_depth': 10, 'learning_rate': 0.15, 'gamma': 0.2, 'colsample_bytree': 0.7}\n"
     ]
    }
   ],
   "source": [
    "param =             {\"learning_rate\"    : [0.05, 0.15, 0.20, 0.30] ,\n",
    "                     \"max_depth\"        : [ 3, 5, 8, 10, 15],\n",
    "                     \"min_child_weight\" : [ 1, 5, 7 ],\n",
    "                     \"gamma\"            : [ 0.0, 0.2, 0.4],\n",
    "                     \"colsample_bytree\" : [ 0.3, 0.5 , 0.7 ] }\n",
    "\n",
    "gb = xgb.XGBClassifier()\n",
    "gb_best = RandomizedSearchCV(gb, param,cv=5 , n_iter=10, random_state=20,verbose=1)\n",
    "gb_best.fit(x_train_sm, y_train_sm)\n",
    "print(gb_best.best_params_)"
   ]
  },
  {
   "cell_type": "code",
   "execution_count": 33,
   "metadata": {},
   "outputs": [
    {
     "name": "stdout",
     "output_type": "stream",
     "text": [
      "              precision    recall  f1-score   support\n",
      "\n",
      "           0       0.94      0.79      0.86      7300\n",
      "           1       0.55      0.83      0.66      2299\n",
      "\n",
      "    accuracy                           0.80      9599\n",
      "   macro avg       0.75      0.81      0.76      9599\n",
      "weighted avg       0.84      0.80      0.81      9599\n",
      "\n",
      "AUC SCORE: 0.8098380475132131\n"
     ]
    }
   ],
   "source": [
    "gb.fit(x_train_sm, y_train_sm)\n",
    "evaluasi(gb)"
   ]
  },
  {
   "cell_type": "code",
   "execution_count": 34,
   "metadata": {},
   "outputs": [
    {
     "name": "stdout",
     "output_type": "stream",
     "text": [
      "              precision    recall  f1-score   support\n",
      "\n",
      "           0       0.93      0.80      0.86      7300\n",
      "           1       0.56      0.80      0.66      2299\n",
      "\n",
      "    accuracy                           0.80      9599\n",
      "   macro avg       0.74      0.80      0.76      9599\n",
      "weighted avg       0.84      0.80      0.81      9599\n",
      "\n",
      "AUC SCORE: 0.8019018691867221\n"
     ]
    }
   ],
   "source": [
    "evaluasi(gb_best)"
   ]
  },
  {
   "cell_type": "markdown",
   "metadata": {},
   "source": [
    "## Evaluasi"
   ]
  },
  {
   "cell_type": "code",
   "execution_count": 35,
   "metadata": {},
   "outputs": [
    {
     "data": {
      "text/plain": [
       "<sklearn.metrics._plot.roc_curve.RocCurveDisplay at 0x194b819d588>"
      ]
     },
     "execution_count": 35,
     "metadata": {},
     "output_type": "execute_result"
    },
    {
     "data": {
      "image/png": "[encoded data removed]",
      "text/plain": [
       "<Figure size 432x288 with 1 Axes>"
      ]
     },
     "metadata": {
      "needs_background": "light"
     },
     "output_type": "display_data"
    }
   ],
   "source": [
    "disp = plot_roc_curve(gb_best.best_estimator_,x_test,y_test)\n",
    "plot_roc_curve(lr_best.best_estimator_, x_test, y_test, ax=disp.ax_)\n",
    "plot_roc_curve(kn_best.best_estimator_, x_test, y_test, ax=disp.ax_)\n",
    "plot_roc_curve(rf_best.best_estimator_, x_test, y_test, ax=disp.ax_)"
   ]
  },
  {
   "cell_type": "code",
   "execution_count": 36,
   "metadata": {},
   "outputs": [
    {
     "data": {
      "text/plain": [
       "<function sklearn.metrics._classification.f1_score(y_true, y_pred, labels=None, pos_label=1, average='binary', sample_weight=None, zero_division='warn')>"
      ]
     },
     "execution_count": 36,
     "metadata": {},
     "output_type": "execute_result"
    }
   ],
   "source": [
    "f1_score"
   ]
  },
  {
   "cell_type": "code",
   "execution_count": 37,
   "metadata": {},
   "outputs": [
    {
     "data": {
      "text/html": [
       "<div>\n",
       "<style scoped>\n",
       "    .dataframe tbody tr th:only-of-type {\n",
       "        vertical-align: middle;\n",
       "    }\n",
       "\n",
       "    .dataframe tbody tr th {\n",
       "        vertical-align: top;\n",
       "    }\n",
       "\n",
       "    .dataframe thead th {\n",
       "        text-align: right;\n",
       "    }\n",
       "</style>\n",
       "<table border=\"1\" class=\"dataframe\">\n",
       "  <thead>\n",
       "    <tr style=\"text-align: right;\">\n",
       "      <th></th>\n",
       "      <th>name</th>\n",
       "      <th>base acc</th>\n",
       "      <th>base f1</th>\n",
       "      <th>best_acc</th>\n",
       "      <th>best_f1</th>\n",
       "    </tr>\n",
       "  </thead>\n",
       "  <tbody>\n",
       "    <tr>\n",
       "      <th>0</th>\n",
       "      <td>Xgboost</td>\n",
       "      <td>0.799146</td>\n",
       "      <td>0.664462</td>\n",
       "      <td>0.801125</td>\n",
       "      <td>0.659290</td>\n",
       "    </tr>\n",
       "    <tr>\n",
       "      <th>1</th>\n",
       "      <td>Logistic Regression</td>\n",
       "      <td>0.739660</td>\n",
       "      <td>0.583569</td>\n",
       "      <td>0.739765</td>\n",
       "      <td>0.583667</td>\n",
       "    </tr>\n",
       "    <tr>\n",
       "      <th>2</th>\n",
       "      <td>KNN</td>\n",
       "      <td>0.758517</td>\n",
       "      <td>0.609633</td>\n",
       "      <td>0.767267</td>\n",
       "      <td>0.610394</td>\n",
       "    </tr>\n",
       "    <tr>\n",
       "      <th>3</th>\n",
       "      <td>Random Forest</td>\n",
       "      <td>0.790186</td>\n",
       "      <td>0.606794</td>\n",
       "      <td>0.791645</td>\n",
       "      <td>0.610440</td>\n",
       "    </tr>\n",
       "  </tbody>\n",
       "</table>\n",
       "</div>"
      ],
      "text/plain": [
       "                  name  base acc   base f1  best_acc   best_f1\n",
       "0              Xgboost  0.799146  0.664462  0.801125  0.659290\n",
       "1  Logistic Regression  0.739660  0.583569  0.739765  0.583667\n",
       "2                  KNN  0.758517  0.609633  0.767267  0.610394\n",
       "3        Random Forest  0.790186  0.606794  0.791645  0.610440"
      ]
     },
     "execution_count": 37,
     "metadata": {},
     "output_type": "execute_result"
    }
   ],
   "source": [
    "base_model = [gb, lr, kn, rf]\n",
    "best_model = [gb_best.best_estimator_, lr_best.best_estimator_, kn_best.best_estimator_, rf_best.best_estimator_]\n",
    "name = [\"Xgboost\", \"Logistic Regression\", \"KNN\", \"Random Forest\"]\n",
    "base_acc_score, base_f1_score, best_acc_score, best_f1_score = [], [], [], []\n",
    "\n",
    "for i,v in enumerate(name):\n",
    "    base_acc_score.append( accuracy_score(y_test, base_model[i].predict(x_test)) )\n",
    "    base_f1_score.append( f1_score(y_test, base_model[i].predict(x_test)) )\n",
    "    best_acc_score.append( accuracy_score(y_test, best_model[i].predict(x_test)) )\n",
    "    best_f1_score.append( f1_score(y_test, best_model[i].predict(x_test)) )\n",
    "    \n",
    "pd.DataFrame({\n",
    "    \"name\":name,\n",
    "    \"base acc\":base_acc_score,\n",
    "    \"base f1\":base_f1_score,\n",
    "    \"best_acc\":best_acc_score,\n",
    "    \"best_f1\":best_f1_score\n",
    "})"
   ]
  },
  {
   "cell_type": "code",
   "execution_count": 38,
   "metadata": {},
   "outputs": [
    {
     "name": "stdout",
     "output_type": "stream",
     "text": [
      "[[5843 1457]\n",
      " [ 452 1847]]\n",
      "[[5350 1950]\n",
      " [ 548 1751]]\n",
      "[[5615 1685]\n",
      " [ 549 1750]]\n",
      "[[6032 1268]\n",
      " [ 732 1567]]\n"
     ]
    }
   ],
   "source": [
    "for i in best_model:\n",
    "    y_pred = i.predict(x_test)\n",
    "    print(confusion_matrix(y_test,y_pred))"
   ]
  },
  {
   "cell_type": "code",
   "execution_count": 39,
   "metadata": {},
   "outputs": [],
   "source": [
    "import pickle"
   ]
  },
  {
   "cell_type": "code",
   "execution_count": 40,
   "metadata": {},
   "outputs": [],
   "source": [
    "pickle.dump(gb, open(\"modelGB.pkl\", 'wb'))\n",
    "pickle.dump(scaler,open(\"scaler.pkl\", \"wb\"))"
   ]
  },
  {
   "cell_type": "code",
   "execution_count": null,
   "metadata": {},
   "outputs": [],
   "source": []
  }
 ],
 "metadata": {
  "kernelspec": {
   "display_name": "Python 3",
   "language": "python",
   "name": "python3"
  },
  "language_info": {
   "codemirror_mode": {
    "name": "ipython",
    "version": 3
   },
   "file_extension": ".py",
   "mimetype": "text/x-python",
   "name": "python",
   "nbconvert_exporter": "python",
   "pygments_lexer": "ipython3",
   "version": "3.7.6"
  }
 },
 "nbformat": 4,
 "nbformat_minor": 4
}
